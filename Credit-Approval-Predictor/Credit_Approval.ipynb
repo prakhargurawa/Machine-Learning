{
  "nbformat": 4,
  "nbformat_minor": 0,
  "metadata": {
    "kernelspec": {
      "display_name": "Python 3",
      "language": "python",
      "name": "python3"
    },
    "language_info": {
      "codemirror_mode": {
        "name": "ipython",
        "version": 3
      },
      "file_extension": ".py",
      "mimetype": "text/x-python",
      "name": "python",
      "nbconvert_exporter": "python",
      "pygments_lexer": "ipython3",
      "version": "3.7.3"
    },
    "colab": {
      "name": "Credit_Approval.ipynb",
      "provenance": []
    }
  },
  "cells": [
    {
      "cell_type": "code",
      "metadata": {
        "id": "Gq9GOEK9nAzo"
      },
      "source": [
        "import numpy as np\n",
        "import pandas as pd\n",
        "import matplotlib.pyplot as plt\n",
        "import seaborn as sns\n",
        "from sklearn.linear_model import LogisticRegression\n",
        "from sklearn.model_selection import train_test_split\n",
        "from sklearn.ensemble import RandomForestClassifier\n",
        "from sklearn.preprocessing import OneHotEncoder\n",
        "from sklearn.compose import ColumnTransformer\n",
        "from sklearn.naive_bayes import GaussianNB\n",
        "from sklearn.feature_selection import SelectKBest\n",
        "from sklearn.feature_selection import chi2\n",
        "from sklearn.pipeline import Pipeline"
      ],
      "execution_count": null,
      "outputs": []
    },
    {
      "cell_type": "markdown",
      "metadata": {
        "id": "n55ihrvtnAzr"
      },
      "source": [
        "# Introduction\n",
        "\n",
        "In the well-known Credit Approval dataset (part of the famous UCI machine learning dataset repository), the task is to classify loan applications as positive or negative (i.e. application should be granted, or should not) according to their features. "
      ]
    },
    {
      "cell_type": "markdown",
      "metadata": {
        "id": "nhdBautynAzs"
      },
      "source": [
        "# 1. Data\n",
        "\n",
        "Visit <https://archive.ics.uci.edu/ml/datasets/Credit+Approval> to get the  dataset. Read it into your python session, and take a look. Check that all columns are the type you expect. Check for unexpected columns or rows. Drop any rows with missing data. Extract `X` and `y`."
      ]
    },
    {
      "cell_type": "markdown",
      "metadata": {
        "id": "TCd6z2asnAzs"
      },
      "source": [
        "The file is called `crx.data`. Before we run any code, we could look at the data in a text editor. Here is a chunk:\n",
        "\n",
        "```\n",
        "b,34.17,1.54,u,g,cc,v,1.54,t,t,01,t,g,00520,50000,+\n",
        "a,36.00,1,u,g,c,v,2,t,t,11,f,g,00000,456,+\n",
        "b,25.50,0.375,u,g,m,v,0.25,t,t,03,f,g,00260,15108,+\n",
        "b,19.42,6.5,u,g,w,h,1.46,t,t,07,f,g,00080,2954,+\n",
        "b,35.17,25.125,u,g,x,h,1.625,t,t,01,t,g,00515,500,+\n",
        "b,32.33,7.5,u,g,e,bb,1.585,t,f,0,t,s,00420,0,-\n",
        "b,34.83,4,u,g,d,bb,12.5,t,f,0,t,g,?,0,-\n",
        "a,38.58,5,u,g,cc,v,13.5,t,f,0,t,g,00980,0,-\n",
        "b,44.25,0.5,u,g,m,v,10.75,t,f,0,f,s,00400,0,-\n",
        "b,44.83,7,y,p,c,v,1.625,f,f,0,f,g,00160,2,-\n",
        "```"
      ]
    },
    {
      "cell_type": "markdown",
      "metadata": {
        "id": "xVl-AZxXnAzt"
      },
      "source": [
        "Observations: there are strings and float and ints. The classification variable is last, with values `+` and `-`."
      ]
    },
    {
      "cell_type": "markdown",
      "metadata": {
        "id": "IJhyg4U8nAzu"
      },
      "source": [
        "There is also a data dictionary, `crx.names`. It tells us that columns 1, 4, 5, 6, 7, 9, 10, 12, 13 are categorical (strings). (But note, in that text they count from 1, not 0.) And it explains that there are missing values represented by `?`."
      ]
    },
    {
      "cell_type": "code",
      "metadata": {
        "id": "VXi5W8m0nAzv"
      },
      "source": [
        "d = pd.read_csv(\"../data/crx.data\", header=None)"
      ],
      "execution_count": null,
      "outputs": []
    },
    {
      "cell_type": "code",
      "metadata": {
        "id": "TmkvgCahnAzx",
        "outputId": "fca4e04d-b0e3-44d3-e6c8-0a6fb75413bf"
      },
      "source": [
        "d.head()"
      ],
      "execution_count": null,
      "outputs": [
        {
          "output_type": "execute_result",
          "data": {
            "text/html": [
              "<div>\n",
              "<style scoped>\n",
              "    .dataframe tbody tr th:only-of-type {\n",
              "        vertical-align: middle;\n",
              "    }\n",
              "\n",
              "    .dataframe tbody tr th {\n",
              "        vertical-align: top;\n",
              "    }\n",
              "\n",
              "    .dataframe thead th {\n",
              "        text-align: right;\n",
              "    }\n",
              "</style>\n",
              "<table border=\"1\" class=\"dataframe\">\n",
              "  <thead>\n",
              "    <tr style=\"text-align: right;\">\n",
              "      <th></th>\n",
              "      <th>0</th>\n",
              "      <th>1</th>\n",
              "      <th>2</th>\n",
              "      <th>3</th>\n",
              "      <th>4</th>\n",
              "      <th>5</th>\n",
              "      <th>6</th>\n",
              "      <th>7</th>\n",
              "      <th>8</th>\n",
              "      <th>9</th>\n",
              "      <th>10</th>\n",
              "      <th>11</th>\n",
              "      <th>12</th>\n",
              "      <th>13</th>\n",
              "      <th>14</th>\n",
              "      <th>15</th>\n",
              "    </tr>\n",
              "  </thead>\n",
              "  <tbody>\n",
              "    <tr>\n",
              "      <th>0</th>\n",
              "      <td>b</td>\n",
              "      <td>30.83</td>\n",
              "      <td>0.000</td>\n",
              "      <td>u</td>\n",
              "      <td>g</td>\n",
              "      <td>w</td>\n",
              "      <td>v</td>\n",
              "      <td>1.25</td>\n",
              "      <td>t</td>\n",
              "      <td>t</td>\n",
              "      <td>1</td>\n",
              "      <td>f</td>\n",
              "      <td>g</td>\n",
              "      <td>00202</td>\n",
              "      <td>0</td>\n",
              "      <td>+</td>\n",
              "    </tr>\n",
              "    <tr>\n",
              "      <th>1</th>\n",
              "      <td>a</td>\n",
              "      <td>58.67</td>\n",
              "      <td>4.460</td>\n",
              "      <td>u</td>\n",
              "      <td>g</td>\n",
              "      <td>q</td>\n",
              "      <td>h</td>\n",
              "      <td>3.04</td>\n",
              "      <td>t</td>\n",
              "      <td>t</td>\n",
              "      <td>6</td>\n",
              "      <td>f</td>\n",
              "      <td>g</td>\n",
              "      <td>00043</td>\n",
              "      <td>560</td>\n",
              "      <td>+</td>\n",
              "    </tr>\n",
              "    <tr>\n",
              "      <th>2</th>\n",
              "      <td>a</td>\n",
              "      <td>24.50</td>\n",
              "      <td>0.500</td>\n",
              "      <td>u</td>\n",
              "      <td>g</td>\n",
              "      <td>q</td>\n",
              "      <td>h</td>\n",
              "      <td>1.50</td>\n",
              "      <td>t</td>\n",
              "      <td>f</td>\n",
              "      <td>0</td>\n",
              "      <td>f</td>\n",
              "      <td>g</td>\n",
              "      <td>00280</td>\n",
              "      <td>824</td>\n",
              "      <td>+</td>\n",
              "    </tr>\n",
              "    <tr>\n",
              "      <th>3</th>\n",
              "      <td>b</td>\n",
              "      <td>27.83</td>\n",
              "      <td>1.540</td>\n",
              "      <td>u</td>\n",
              "      <td>g</td>\n",
              "      <td>w</td>\n",
              "      <td>v</td>\n",
              "      <td>3.75</td>\n",
              "      <td>t</td>\n",
              "      <td>t</td>\n",
              "      <td>5</td>\n",
              "      <td>t</td>\n",
              "      <td>g</td>\n",
              "      <td>00100</td>\n",
              "      <td>3</td>\n",
              "      <td>+</td>\n",
              "    </tr>\n",
              "    <tr>\n",
              "      <th>4</th>\n",
              "      <td>b</td>\n",
              "      <td>20.17</td>\n",
              "      <td>5.625</td>\n",
              "      <td>u</td>\n",
              "      <td>g</td>\n",
              "      <td>w</td>\n",
              "      <td>v</td>\n",
              "      <td>1.71</td>\n",
              "      <td>t</td>\n",
              "      <td>f</td>\n",
              "      <td>0</td>\n",
              "      <td>f</td>\n",
              "      <td>s</td>\n",
              "      <td>00120</td>\n",
              "      <td>0</td>\n",
              "      <td>+</td>\n",
              "    </tr>\n",
              "  </tbody>\n",
              "</table>\n",
              "</div>"
            ],
            "text/plain": [
              "  0      1      2  3  4  5  6     7  8  9   10 11 12     13   14 15\n",
              "0  b  30.83  0.000  u  g  w  v  1.25  t  t   1  f  g  00202    0  +\n",
              "1  a  58.67  4.460  u  g  q  h  3.04  t  t   6  f  g  00043  560  +\n",
              "2  a  24.50  0.500  u  g  q  h  1.50  t  f   0  f  g  00280  824  +\n",
              "3  b  27.83  1.540  u  g  w  v  3.75  t  t   5  t  g  00100    3  +\n",
              "4  b  20.17  5.625  u  g  w  v  1.71  t  f   0  f  s  00120    0  +"
            ]
          },
          "metadata": {
            "tags": []
          },
          "execution_count": 222
        }
      ]
    },
    {
      "cell_type": "code",
      "metadata": {
        "id": "xLzGCW0FnAzz",
        "outputId": "377657d3-7daa-4c97-e604-d0369dc21a93"
      },
      "source": [
        "d.shape"
      ],
      "execution_count": null,
      "outputs": [
        {
          "output_type": "execute_result",
          "data": {
            "text/plain": [
              "(690, 16)"
            ]
          },
          "metadata": {
            "tags": []
          },
          "execution_count": 223
        }
      ]
    },
    {
      "cell_type": "code",
      "metadata": {
        "id": "D1x5VX2_nAz1",
        "outputId": "9659c35e-b210-44fd-baaa-bc4a6d1d3d1d"
      },
      "source": [
        "d.isnull().any() # are there missing values? NO!"
      ],
      "execution_count": null,
      "outputs": [
        {
          "output_type": "execute_result",
          "data": {
            "text/plain": [
              "0     False\n",
              "1     False\n",
              "2     False\n",
              "3     False\n",
              "4     False\n",
              "5     False\n",
              "6     False\n",
              "7     False\n",
              "8     False\n",
              "9     False\n",
              "10    False\n",
              "11    False\n",
              "12    False\n",
              "13    False\n",
              "14    False\n",
              "15    False\n",
              "dtype: bool"
            ]
          },
          "metadata": {
            "tags": []
          },
          "execution_count": 279
        }
      ]
    },
    {
      "cell_type": "code",
      "metadata": {
        "id": "XhYuh8n-nAz4",
        "outputId": "e040062e-9fc4-4da6-8939-cdafe8f6d9fe"
      },
      "source": [
        "d.dtypes"
      ],
      "execution_count": null,
      "outputs": [
        {
          "output_type": "execute_result",
          "data": {
            "text/plain": [
              "0      object\n",
              "1      object\n",
              "2     float64\n",
              "3      object\n",
              "4      object\n",
              "5      object\n",
              "6      object\n",
              "7     float64\n",
              "8      object\n",
              "9      object\n",
              "10      int64\n",
              "11     object\n",
              "12     object\n",
              "13     object\n",
              "14      int64\n",
              "15     object\n",
              "dtype: object"
            ]
          },
          "metadata": {
            "tags": []
          },
          "execution_count": 225
        }
      ]
    },
    {
      "cell_type": "markdown",
      "metadata": {
        "id": "dCd62NzPnAz6"
      },
      "source": [
        "We see several columns of type `object`. This is because there are question marks, i.e. strings, in columns we expected to be numerical. This also explains why we didn't see `True` for `isnull()` above. We'll replace `?` with `np.nan` and then drop all `nan` values."
      ]
    },
    {
      "cell_type": "code",
      "metadata": {
        "id": "JtwzO-w9nAz7"
      },
      "source": [
        "# https://stackoverflow.com/questions/35682719/drop-rows-with-a-question-mark-value-in-any-column-in-a-pandas-dataframe\n",
        "d = d.replace({'?': np.nan}).dropna()"
      ],
      "execution_count": null,
      "outputs": []
    },
    {
      "cell_type": "code",
      "metadata": {
        "id": "Xoybc2G3nAz9",
        "outputId": "5517ab89-6c4c-4e30-bb01-7f9d434c5989"
      },
      "source": [
        "d.shape"
      ],
      "execution_count": null,
      "outputs": [
        {
          "output_type": "execute_result",
          "data": {
            "text/plain": [
              "(653, 16)"
            ]
          },
          "metadata": {
            "tags": []
          },
          "execution_count": 227
        }
      ]
    },
    {
      "cell_type": "code",
      "metadata": {
        "id": "FR1Mq_QdnAz_",
        "outputId": "a000d9ba-804b-4005-e850-59d7aecd2457"
      },
      "source": [
        "d.head()"
      ],
      "execution_count": null,
      "outputs": [
        {
          "output_type": "execute_result",
          "data": {
            "text/html": [
              "<div>\n",
              "<style scoped>\n",
              "    .dataframe tbody tr th:only-of-type {\n",
              "        vertical-align: middle;\n",
              "    }\n",
              "\n",
              "    .dataframe tbody tr th {\n",
              "        vertical-align: top;\n",
              "    }\n",
              "\n",
              "    .dataframe thead th {\n",
              "        text-align: right;\n",
              "    }\n",
              "</style>\n",
              "<table border=\"1\" class=\"dataframe\">\n",
              "  <thead>\n",
              "    <tr style=\"text-align: right;\">\n",
              "      <th></th>\n",
              "      <th>0</th>\n",
              "      <th>1</th>\n",
              "      <th>2</th>\n",
              "      <th>3</th>\n",
              "      <th>4</th>\n",
              "      <th>5</th>\n",
              "      <th>6</th>\n",
              "      <th>7</th>\n",
              "      <th>8</th>\n",
              "      <th>9</th>\n",
              "      <th>10</th>\n",
              "      <th>11</th>\n",
              "      <th>12</th>\n",
              "      <th>13</th>\n",
              "      <th>14</th>\n",
              "      <th>15</th>\n",
              "    </tr>\n",
              "  </thead>\n",
              "  <tbody>\n",
              "    <tr>\n",
              "      <th>0</th>\n",
              "      <td>b</td>\n",
              "      <td>30.83</td>\n",
              "      <td>0.000</td>\n",
              "      <td>u</td>\n",
              "      <td>g</td>\n",
              "      <td>w</td>\n",
              "      <td>v</td>\n",
              "      <td>1.25</td>\n",
              "      <td>t</td>\n",
              "      <td>t</td>\n",
              "      <td>1</td>\n",
              "      <td>f</td>\n",
              "      <td>g</td>\n",
              "      <td>00202</td>\n",
              "      <td>0</td>\n",
              "      <td>+</td>\n",
              "    </tr>\n",
              "    <tr>\n",
              "      <th>1</th>\n",
              "      <td>a</td>\n",
              "      <td>58.67</td>\n",
              "      <td>4.460</td>\n",
              "      <td>u</td>\n",
              "      <td>g</td>\n",
              "      <td>q</td>\n",
              "      <td>h</td>\n",
              "      <td>3.04</td>\n",
              "      <td>t</td>\n",
              "      <td>t</td>\n",
              "      <td>6</td>\n",
              "      <td>f</td>\n",
              "      <td>g</td>\n",
              "      <td>00043</td>\n",
              "      <td>560</td>\n",
              "      <td>+</td>\n",
              "    </tr>\n",
              "    <tr>\n",
              "      <th>2</th>\n",
              "      <td>a</td>\n",
              "      <td>24.50</td>\n",
              "      <td>0.500</td>\n",
              "      <td>u</td>\n",
              "      <td>g</td>\n",
              "      <td>q</td>\n",
              "      <td>h</td>\n",
              "      <td>1.50</td>\n",
              "      <td>t</td>\n",
              "      <td>f</td>\n",
              "      <td>0</td>\n",
              "      <td>f</td>\n",
              "      <td>g</td>\n",
              "      <td>00280</td>\n",
              "      <td>824</td>\n",
              "      <td>+</td>\n",
              "    </tr>\n",
              "    <tr>\n",
              "      <th>3</th>\n",
              "      <td>b</td>\n",
              "      <td>27.83</td>\n",
              "      <td>1.540</td>\n",
              "      <td>u</td>\n",
              "      <td>g</td>\n",
              "      <td>w</td>\n",
              "      <td>v</td>\n",
              "      <td>3.75</td>\n",
              "      <td>t</td>\n",
              "      <td>t</td>\n",
              "      <td>5</td>\n",
              "      <td>t</td>\n",
              "      <td>g</td>\n",
              "      <td>00100</td>\n",
              "      <td>3</td>\n",
              "      <td>+</td>\n",
              "    </tr>\n",
              "    <tr>\n",
              "      <th>4</th>\n",
              "      <td>b</td>\n",
              "      <td>20.17</td>\n",
              "      <td>5.625</td>\n",
              "      <td>u</td>\n",
              "      <td>g</td>\n",
              "      <td>w</td>\n",
              "      <td>v</td>\n",
              "      <td>1.71</td>\n",
              "      <td>t</td>\n",
              "      <td>f</td>\n",
              "      <td>0</td>\n",
              "      <td>f</td>\n",
              "      <td>s</td>\n",
              "      <td>00120</td>\n",
              "      <td>0</td>\n",
              "      <td>+</td>\n",
              "    </tr>\n",
              "  </tbody>\n",
              "</table>\n",
              "</div>"
            ],
            "text/plain": [
              "  0      1      2  3  4  5  6     7  8  9   10 11 12     13   14 15\n",
              "0  b  30.83  0.000  u  g  w  v  1.25  t  t   1  f  g  00202    0  +\n",
              "1  a  58.67  4.460  u  g  q  h  3.04  t  t   6  f  g  00043  560  +\n",
              "2  a  24.50  0.500  u  g  q  h  1.50  t  f   0  f  g  00280  824  +\n",
              "3  b  27.83  1.540  u  g  w  v  3.75  t  t   5  t  g  00100    3  +\n",
              "4  b  20.17  5.625  u  g  w  v  1.71  t  f   0  f  s  00120    0  +"
            ]
          },
          "metadata": {
            "tags": []
          },
          "execution_count": 228
        }
      ]
    },
    {
      "cell_type": "code",
      "metadata": {
        "id": "zbDp9fgrnA0B",
        "outputId": "f7edcc94-a476-46e0-85bf-ae2466aa11bd"
      },
      "source": [
        "d.dtypes"
      ],
      "execution_count": null,
      "outputs": [
        {
          "output_type": "execute_result",
          "data": {
            "text/plain": [
              "0      object\n",
              "1      object\n",
              "2     float64\n",
              "3      object\n",
              "4      object\n",
              "5      object\n",
              "6      object\n",
              "7     float64\n",
              "8      object\n",
              "9      object\n",
              "10      int64\n",
              "11     object\n",
              "12     object\n",
              "13     object\n",
              "14      int64\n",
              "15     object\n",
              "dtype: object"
            ]
          },
          "metadata": {
            "tags": []
          },
          "execution_count": 165
        }
      ]
    },
    {
      "cell_type": "markdown",
      "metadata": {
        "id": "FEFnpYKYnA0C"
      },
      "source": [
        "After dropping the `?`, several of these columns have only numeric values, but we have to tell Pandas that:"
      ]
    },
    {
      "cell_type": "code",
      "metadata": {
        "id": "8hKXKHRWnA0D"
      },
      "source": [
        "numeric_cols = (1, 2, 7, 10, 13, 14)"
      ],
      "execution_count": null,
      "outputs": []
    },
    {
      "cell_type": "code",
      "metadata": {
        "id": "tKWIrAohnA0F"
      },
      "source": [
        "for col in numeric_cols: # numerical columns\n",
        "    d[col] = pd.to_numeric(d[col])"
      ],
      "execution_count": null,
      "outputs": []
    },
    {
      "cell_type": "code",
      "metadata": {
        "id": "82MA-pbRnA0G",
        "outputId": "b9f82570-5fc7-47dc-d394-90f0a2b4851b"
      },
      "source": [
        "d.dtypes"
      ],
      "execution_count": null,
      "outputs": [
        {
          "output_type": "execute_result",
          "data": {
            "text/plain": [
              "0      object\n",
              "1     float64\n",
              "2     float64\n",
              "3      object\n",
              "4      object\n",
              "5      object\n",
              "6      object\n",
              "7     float64\n",
              "8      object\n",
              "9      object\n",
              "10      int64\n",
              "11     object\n",
              "12     object\n",
              "13      int64\n",
              "14      int64\n",
              "15     object\n",
              "dtype: object"
            ]
          },
          "metadata": {
            "tags": []
          },
          "execution_count": 167
        }
      ]
    },
    {
      "cell_type": "code",
      "metadata": {
        "id": "ScAGy3OVnA0J",
        "outputId": "d252d2a4-822d-40d3-85f5-100a03fbe0b1"
      },
      "source": [
        "X = d.iloc[:, :-1]\n",
        "X.head()"
      ],
      "execution_count": null,
      "outputs": [
        {
          "output_type": "execute_result",
          "data": {
            "text/html": [
              "<div>\n",
              "<style scoped>\n",
              "    .dataframe tbody tr th:only-of-type {\n",
              "        vertical-align: middle;\n",
              "    }\n",
              "\n",
              "    .dataframe tbody tr th {\n",
              "        vertical-align: top;\n",
              "    }\n",
              "\n",
              "    .dataframe thead th {\n",
              "        text-align: right;\n",
              "    }\n",
              "</style>\n",
              "<table border=\"1\" class=\"dataframe\">\n",
              "  <thead>\n",
              "    <tr style=\"text-align: right;\">\n",
              "      <th></th>\n",
              "      <th>0</th>\n",
              "      <th>1</th>\n",
              "      <th>2</th>\n",
              "      <th>3</th>\n",
              "      <th>4</th>\n",
              "      <th>5</th>\n",
              "      <th>6</th>\n",
              "      <th>7</th>\n",
              "      <th>8</th>\n",
              "      <th>9</th>\n",
              "      <th>10</th>\n",
              "      <th>11</th>\n",
              "      <th>12</th>\n",
              "      <th>13</th>\n",
              "      <th>14</th>\n",
              "    </tr>\n",
              "  </thead>\n",
              "  <tbody>\n",
              "    <tr>\n",
              "      <th>0</th>\n",
              "      <td>b</td>\n",
              "      <td>30.83</td>\n",
              "      <td>0.000</td>\n",
              "      <td>u</td>\n",
              "      <td>g</td>\n",
              "      <td>w</td>\n",
              "      <td>v</td>\n",
              "      <td>1.25</td>\n",
              "      <td>t</td>\n",
              "      <td>t</td>\n",
              "      <td>1</td>\n",
              "      <td>f</td>\n",
              "      <td>g</td>\n",
              "      <td>202</td>\n",
              "      <td>0</td>\n",
              "    </tr>\n",
              "    <tr>\n",
              "      <th>1</th>\n",
              "      <td>a</td>\n",
              "      <td>58.67</td>\n",
              "      <td>4.460</td>\n",
              "      <td>u</td>\n",
              "      <td>g</td>\n",
              "      <td>q</td>\n",
              "      <td>h</td>\n",
              "      <td>3.04</td>\n",
              "      <td>t</td>\n",
              "      <td>t</td>\n",
              "      <td>6</td>\n",
              "      <td>f</td>\n",
              "      <td>g</td>\n",
              "      <td>43</td>\n",
              "      <td>560</td>\n",
              "    </tr>\n",
              "    <tr>\n",
              "      <th>2</th>\n",
              "      <td>a</td>\n",
              "      <td>24.50</td>\n",
              "      <td>0.500</td>\n",
              "      <td>u</td>\n",
              "      <td>g</td>\n",
              "      <td>q</td>\n",
              "      <td>h</td>\n",
              "      <td>1.50</td>\n",
              "      <td>t</td>\n",
              "      <td>f</td>\n",
              "      <td>0</td>\n",
              "      <td>f</td>\n",
              "      <td>g</td>\n",
              "      <td>280</td>\n",
              "      <td>824</td>\n",
              "    </tr>\n",
              "    <tr>\n",
              "      <th>3</th>\n",
              "      <td>b</td>\n",
              "      <td>27.83</td>\n",
              "      <td>1.540</td>\n",
              "      <td>u</td>\n",
              "      <td>g</td>\n",
              "      <td>w</td>\n",
              "      <td>v</td>\n",
              "      <td>3.75</td>\n",
              "      <td>t</td>\n",
              "      <td>t</td>\n",
              "      <td>5</td>\n",
              "      <td>t</td>\n",
              "      <td>g</td>\n",
              "      <td>100</td>\n",
              "      <td>3</td>\n",
              "    </tr>\n",
              "    <tr>\n",
              "      <th>4</th>\n",
              "      <td>b</td>\n",
              "      <td>20.17</td>\n",
              "      <td>5.625</td>\n",
              "      <td>u</td>\n",
              "      <td>g</td>\n",
              "      <td>w</td>\n",
              "      <td>v</td>\n",
              "      <td>1.71</td>\n",
              "      <td>t</td>\n",
              "      <td>f</td>\n",
              "      <td>0</td>\n",
              "      <td>f</td>\n",
              "      <td>s</td>\n",
              "      <td>120</td>\n",
              "      <td>0</td>\n",
              "    </tr>\n",
              "  </tbody>\n",
              "</table>\n",
              "</div>"
            ],
            "text/plain": [
              "  0      1      2  3  4  5  6     7  8  9   10 11 12   13   14\n",
              "0  b  30.83  0.000  u  g  w  v  1.25  t  t   1  f  g  202    0\n",
              "1  a  58.67  4.460  u  g  q  h  3.04  t  t   6  f  g   43  560\n",
              "2  a  24.50  0.500  u  g  q  h  1.50  t  f   0  f  g  280  824\n",
              "3  b  27.83  1.540  u  g  w  v  3.75  t  t   5  t  g  100    3\n",
              "4  b  20.17  5.625  u  g  w  v  1.71  t  f   0  f  s  120    0"
            ]
          },
          "metadata": {
            "tags": []
          },
          "execution_count": 234
        }
      ]
    },
    {
      "cell_type": "code",
      "metadata": {
        "id": "77aF6llLnA0L",
        "outputId": "f1e668b9-42ca-408c-8ef7-e4a26f8844d0"
      },
      "source": [
        "y = d.iloc[:, -1]\n",
        "y.head()"
      ],
      "execution_count": null,
      "outputs": [
        {
          "output_type": "execute_result",
          "data": {
            "text/plain": [
              "0    +\n",
              "1    +\n",
              "2    +\n",
              "3    +\n",
              "4    +\n",
              "Name: 15, dtype: object"
            ]
          },
          "metadata": {
            "tags": []
          },
          "execution_count": 235
        }
      ]
    },
    {
      "cell_type": "code",
      "metadata": {
        "id": "Q6PmrxqVnA0O",
        "outputId": "e7433411-f5e9-41b4-96d2-43713c866849"
      },
      "source": [
        "print(X.shape, y.shape)"
      ],
      "execution_count": null,
      "outputs": [
        {
          "output_type": "stream",
          "text": [
            "(653, 15) (653,)\n"
          ],
          "name": "stdout"
        }
      ]
    },
    {
      "cell_type": "markdown",
      "metadata": {
        "id": "fEejkc_enA0P"
      },
      "source": [
        "# 2. Feature engineering\n",
        "\n",
        "Many of the features are categorical: how can we encode them? Program this to produce a new dataset."
      ]
    },
    {
      "cell_type": "markdown",
      "metadata": {
        "id": "nqi8cAUYnA0Q"
      },
      "source": [
        "Remember that if we run `OneHotEncoder` on `X`, it will transform every column - even the numerical ones! Instead, we use `ColumnTransformer` to tell it which columns to transform."
      ]
    },
    {
      "cell_type": "code",
      "metadata": {
        "id": "AFQrbkrDnA0Q"
      },
      "source": [
        "categorical_cols = [i for i in range(15) if i not in numeric_cols] "
      ],
      "execution_count": null,
      "outputs": []
    },
    {
      "cell_type": "code",
      "metadata": {
        "id": "jYnkTEJMnA0S"
      },
      "source": [
        "ct = ColumnTransformer(transformers=[\n",
        "    ('encoder', OneHotEncoder(), categorical_cols),\n",
        "], \n",
        "                       remainder='passthrough') # leave numerical columns alone!"
      ],
      "execution_count": null,
      "outputs": []
    },
    {
      "cell_type": "code",
      "metadata": {
        "id": "4E42mCrtnA0U"
      },
      "source": [
        "X_ohe = ct.fit_transform(X)"
      ],
      "execution_count": null,
      "outputs": []
    },
    {
      "cell_type": "code",
      "metadata": {
        "id": "XmMvU_mpnA0V",
        "outputId": "6a360c66-0a06-475c-b7dd-e23283bf56f7"
      },
      "source": [
        "X_ohe.shape"
      ],
      "execution_count": null,
      "outputs": [
        {
          "output_type": "execute_result",
          "data": {
            "text/plain": [
              "(653, 46)"
            ]
          },
          "metadata": {
            "tags": []
          },
          "execution_count": 174
        }
      ]
    },
    {
      "cell_type": "markdown",
      "metadata": {
        "id": "-sHi2nRrnA0X"
      },
      "source": [
        "We now have 46 columns, and this looks right. Observe in the first row below, how the new columns correspond to the pre-OneHotEncoder columns. If we look in the data dictionary, we'll see that the categorical columns have a total of 40 values; and there are 6 numerical columns."
      ]
    },
    {
      "cell_type": "code",
      "metadata": {
        "id": "dROBctcEnA0X",
        "outputId": "c8671ed5-29e2-4389-f351-d7221792f613"
      },
      "source": [
        "X_ohe[0]"
      ],
      "execution_count": null,
      "outputs": [
        {
          "output_type": "execute_result",
          "data": {
            "text/plain": [
              "array([  0.  ,   1.  ,   0.  ,   1.  ,   0.  ,   1.  ,   0.  ,   0.  ,\n",
              "         0.  ,   0.  ,   0.  ,   0.  ,   0.  ,   0.  ,   0.  ,   0.  ,\n",
              "         0.  ,   0.  ,   0.  ,   0.  ,   1.  ,   0.  ,   0.  ,   0.  ,\n",
              "         0.  ,   0.  ,   0.  ,   0.  ,   0.  ,   1.  ,   0.  ,   0.  ,\n",
              "         1.  ,   0.  ,   1.  ,   1.  ,   0.  ,   1.  ,   0.  ,   0.  ,\n",
              "        30.83,   0.  ,   1.25,   1.  , 202.  ,   0.  ])"
            ]
          },
          "metadata": {
            "tags": []
          },
          "execution_count": 237
        }
      ]
    },
    {
      "cell_type": "markdown",
      "metadata": {
        "id": "KF4eMHSGnA0Z"
      },
      "source": [
        "# 3. Train-test split\n",
        "\n",
        "Make a 80-20 train-test split with a fixed random seed of 0 (so that we all have exactly the same split)."
      ]
    },
    {
      "cell_type": "code",
      "metadata": {
        "id": "eDk1BLrWnA0Z"
      },
      "source": [
        "X_train, X_test, y_train, y_test = train_test_split(X_ohe, y, test_size=0.2, random_state=0)"
      ],
      "execution_count": null,
      "outputs": []
    },
    {
      "cell_type": "markdown",
      "metadata": {
        "id": "Q2qnTB0bnA0b"
      },
      "source": [
        "# 4. Classification\n",
        "\n",
        "Try several classification algorithms, ideally in a loop. Print out both the training and test performance.\n",
        "\n",
        "Remember the workflow:\n",
        "\n",
        "1. import (already done)\n",
        "2. instantiate\n",
        "3. fit\n",
        "4. score\n",
        "5. predict\n"
      ]
    },
    {
      "cell_type": "code",
      "metadata": {
        "id": "SmOXUKMInA0c",
        "outputId": "db3fe967-b8f4-4d72-eebe-efe7d90d05bc"
      },
      "source": [
        "np.random.seed(0)\n",
        "\n",
        "RF = RandomForestClassifier()\n",
        "RF.fit(X_train, y_train)"
      ],
      "execution_count": null,
      "outputs": [
        {
          "output_type": "execute_result",
          "data": {
            "text/plain": [
              "RandomForestClassifier(random_state=0)"
            ]
          },
          "metadata": {
            "tags": []
          },
          "execution_count": 238
        }
      ]
    },
    {
      "cell_type": "code",
      "metadata": {
        "id": "pv28IEzZnA0e",
        "outputId": "105053a2-8e33-4648-b57e-016c7317cc94"
      },
      "source": [
        "RF.score(X_train, y_train)"
      ],
      "execution_count": null,
      "outputs": [
        {
          "output_type": "execute_result",
          "data": {
            "text/plain": [
              "1.0"
            ]
          },
          "metadata": {
            "tags": []
          },
          "execution_count": 239
        }
      ]
    },
    {
      "cell_type": "code",
      "metadata": {
        "id": "7hoE_4LInA0f",
        "outputId": "685c4123-b331-4153-d3ee-f64b93a93b64"
      },
      "source": [
        "RF.score(X_test, y_test)"
      ],
      "execution_count": null,
      "outputs": [
        {
          "output_type": "execute_result",
          "data": {
            "text/plain": [
              "0.8702290076335878"
            ]
          },
          "metadata": {
            "tags": []
          },
          "execution_count": 240
        }
      ]
    },
    {
      "cell_type": "code",
      "metadata": {
        "id": "qcTzr2kGnA0h",
        "outputId": "d90c1ebd-b145-477e-ad6e-7ef9239b3887"
      },
      "source": [
        "RF.predict(X_test[:5])"
      ],
      "execution_count": null,
      "outputs": [
        {
          "output_type": "execute_result",
          "data": {
            "text/plain": [
              "array(['+', '+', '+', '-', '+'], dtype=object)"
            ]
          },
          "metadata": {
            "tags": []
          },
          "execution_count": 241
        }
      ]
    },
    {
      "cell_type": "code",
      "metadata": {
        "id": "8FhGjv6znA0j"
      },
      "source": [
        "LR = LogisticRegression()"
      ],
      "execution_count": null,
      "outputs": []
    },
    {
      "cell_type": "code",
      "metadata": {
        "id": "cxuYMHaxnA0l",
        "outputId": "21f0d387-502d-4da6-a9dc-3d1ed4017142"
      },
      "source": [
        "LR.fit(X_train, y_train)"
      ],
      "execution_count": null,
      "outputs": [
        {
          "output_type": "stream",
          "text": [
            "/Users/jmmcd/anaconda3/lib/python3.7/site-packages/sklearn/linear_model/_logistic.py:764: ConvergenceWarning: lbfgs failed to converge (status=1):\n",
            "STOP: TOTAL NO. of ITERATIONS REACHED LIMIT.\n",
            "\n",
            "Increase the number of iterations (max_iter) or scale the data as shown in:\n",
            "    https://scikit-learn.org/stable/modules/preprocessing.html\n",
            "Please also refer to the documentation for alternative solver options:\n",
            "    https://scikit-learn.org/stable/modules/linear_model.html#logistic-regression\n",
            "  extra_warning_msg=_LOGISTIC_SOLVER_CONVERGENCE_MSG)\n"
          ],
          "name": "stderr"
        },
        {
          "output_type": "execute_result",
          "data": {
            "text/plain": [
              "LogisticRegression()"
            ]
          },
          "metadata": {
            "tags": []
          },
          "execution_count": 243
        }
      ]
    },
    {
      "cell_type": "markdown",
      "metadata": {
        "id": "hhpHQVb2nA0n"
      },
      "source": [
        "I don't know why the Logistic Regression gradient descent didn't converge"
      ]
    },
    {
      "cell_type": "code",
      "metadata": {
        "id": "ox6sGFAnnA0n",
        "outputId": "67841b49-56e4-409e-f3df-72ee699b8d31"
      },
      "source": [
        "NB = GaussianNB()\n",
        "NB.fit(X_train, y_train)\n",
        "NB.score(X_train, y_train)"
      ],
      "execution_count": null,
      "outputs": [
        {
          "output_type": "execute_result",
          "data": {
            "text/plain": [
              "0.8390804597701149"
            ]
          },
          "metadata": {
            "tags": []
          },
          "execution_count": 248
        }
      ]
    },
    {
      "cell_type": "code",
      "metadata": {
        "id": "NCN2BsoDnA0p",
        "outputId": "fc946c10-1282-408b-e0fa-5e950b4975d2"
      },
      "source": [
        "NB.score(X_test, y_test) # no overfitting!"
      ],
      "execution_count": null,
      "outputs": [
        {
          "output_type": "execute_result",
          "data": {
            "text/plain": [
              "0.8320610687022901"
            ]
          },
          "metadata": {
            "tags": []
          },
          "execution_count": 250
        }
      ]
    },
    {
      "cell_type": "markdown",
      "metadata": {
        "id": "4R9etZb3nA0r"
      },
      "source": [
        "We can put these in a loop, so let's do that. The point is to observe that all these different algorithms have the same API."
      ]
    },
    {
      "cell_type": "code",
      "metadata": {
        "id": "_Q2zOsPSnA0r",
        "outputId": "d0c7a497-19e1-443c-cfb9-3610478452ca"
      },
      "source": [
        "clfs = [RandomForestClassifier(),\n",
        "       GaussianNB()] \n",
        "\n",
        "for clf in clfs:\n",
        "    clf.fit(X_train, y_train)\n",
        "    print(clf.__class__.__name__) # we can get class name this way\n",
        "    print(\"train:\", clf.score(X_train, y_train))\n",
        "    print(\"test:\", clf.score(X_test, y_test))\n",
        "    "
      ],
      "execution_count": null,
      "outputs": [
        {
          "output_type": "stream",
          "text": [
            "RandomForestClassifier\n",
            "train: 1.0\n",
            "test: 0.8625954198473282\n",
            "GaussianNB\n",
            "train: 0.8390804597701149\n",
            "test: 0.8320610687022901\n"
          ],
          "name": "stdout"
        }
      ]
    },
    {
      "cell_type": "markdown",
      "metadata": {
        "id": "QxfWIpREnA0s"
      },
      "source": [
        "# 5. Feature selection \n",
        "\n",
        "Try SelectKBest to choose a subset of features. Notice its effect on both training and test performance.\n"
      ]
    },
    {
      "cell_type": "code",
      "metadata": {
        "id": "vQZjMxkEnA0t"
      },
      "source": [
        "# we can use the chi^2 metric to give a ranking of the features\n",
        "# (it just considers them individually for their relationship with the y variable)\n",
        "sel = SelectKBest(chi2, k=5)\n",
        "sel.fit(X_train, y_train)\n",
        "X_train_sel = sel.transform(X_train)\n",
        "X_test_sel = sel.transform(X_test)\n"
      ],
      "execution_count": null,
      "outputs": []
    },
    {
      "cell_type": "code",
      "metadata": {
        "id": "O75iaTVjnA0u",
        "outputId": "1b178bef-a5fa-48e4-ad75-75cf3c38a117"
      },
      "source": [
        "for clf in clfs:\n",
        "    clf.fit(X_train_sel, y_train)\n",
        "    print(clf.__class__.__name__) # we can get class name this way\n",
        "    print(\"train:\", clf.score(X_train_sel, y_train))\n",
        "    print(\"test:\", clf.score(X_test_sel, y_test))"
      ],
      "execution_count": null,
      "outputs": [
        {
          "output_type": "stream",
          "text": [
            "RandomForestClassifier\n",
            "train: 0.9961685823754789\n",
            "test: 0.9083969465648855\n",
            "GaussianNB\n",
            "train: 0.7413793103448276\n",
            "test: 0.8015267175572519\n"
          ],
          "name": "stdout"
        }
      ]
    },
    {
      "cell_type": "markdown",
      "metadata": {
        "id": "BSnOA4MynA0w"
      },
      "source": [
        "Observations: this has actually improved the RF test performance! It was over-fitting previously, and it still is, but less so. The Gaussian Naive Bayes was not over-fitting, so feature selection made it worse."
      ]
    },
    {
      "cell_type": "markdown",
      "metadata": {
        "id": "mWKZNv9InA0w"
      },
      "source": [
        "# 6. Pipeline\n",
        "\n",
        "Put everything together in a pipeline."
      ]
    },
    {
      "cell_type": "code",
      "metadata": {
        "id": "W6s9A4QunA0w"
      },
      "source": [
        "pipe = Pipeline([('encoder', \n",
        "                  ColumnTransformer(transformers=[('encoder', \n",
        "                                                   OneHotEncoder(), \n",
        "                                                   categorical_cols)], \n",
        "                       remainder='passthrough') # leave numerical columns alone!\n",
        "                 ),\n",
        "                 ('feature_selection',\n",
        "                  SelectKBest(chi2, k=5)\n",
        "                 ),\n",
        "                 ('random_forest',\n",
        "                  RandomForestClassifier(random_state=0)\n",
        "                 )])"
      ],
      "execution_count": null,
      "outputs": []
    },
    {
      "cell_type": "markdown",
      "metadata": {
        "id": "Z9IFy3n0nA0y"
      },
      "source": [
        "The idea of a pipeline is to put everything together so that we have just one object on which to call fit."
      ]
    },
    {
      "cell_type": "code",
      "metadata": {
        "id": "8TjcHUT_nA0y",
        "outputId": "c1d1b6e2-f868-4997-9d50-f900c34b001e"
      },
      "source": [
        "pipe.fit(X_train, y_train)"
      ],
      "execution_count": null,
      "outputs": [
        {
          "output_type": "execute_result",
          "data": {
            "text/plain": [
              "Pipeline(steps=[('encoder',\n",
              "                 ColumnTransformer(remainder='passthrough',\n",
              "                                   transformers=[('encoder', OneHotEncoder(),\n",
              "                                                  [0, 3, 4, 5, 6, 8, 9, 11,\n",
              "                                                   12])])),\n",
              "                ('feature_selection',\n",
              "                 SelectKBest(k=5, score_func=<function chi2 at 0x1a1f9b58c8>)),\n",
              "                ('random_forest', RandomForestClassifier(random_state=0))])"
            ]
          },
          "metadata": {
            "tags": []
          },
          "execution_count": 276
        }
      ]
    },
    {
      "cell_type": "code",
      "metadata": {
        "id": "0hCZ0zQZnA0z",
        "outputId": "464f56f8-5299-449f-ea91-249965afbe6d"
      },
      "source": [
        "pipe.score(X_test, y_test)"
      ],
      "execution_count": null,
      "outputs": [
        {
          "output_type": "execute_result",
          "data": {
            "text/plain": [
              "0.9007633587786259"
            ]
          },
          "metadata": {
            "tags": []
          },
          "execution_count": 277
        }
      ]
    },
    {
      "cell_type": "markdown",
      "metadata": {
        "id": "j0EvmurcnA01"
      },
      "source": [
        "# 7. Extra processing/Rough Work\n"
      ]
    },
    {
      "cell_type": "code",
      "metadata": {
        "id": "B5rtejTEnA01"
      },
      "source": [
        "X = pd.DataFrame({\"x0\": [0.5, 0.3, 0.2], \"x1\": [\"a\", \"b\", \"a\"], \"x2\": [\"c\", \"c\", \"d\"]})"
      ],
      "execution_count": null,
      "outputs": []
    },
    {
      "cell_type": "code",
      "metadata": {
        "id": "-Leu9h9nnA03",
        "outputId": "240cb8df-02a5-470c-f532-7651ad50bcd8"
      },
      "source": [
        "X"
      ],
      "execution_count": null,
      "outputs": [
        {
          "output_type": "execute_result",
          "data": {
            "text/html": [
              "<div>\n",
              "<style scoped>\n",
              "    .dataframe tbody tr th:only-of-type {\n",
              "        vertical-align: middle;\n",
              "    }\n",
              "\n",
              "    .dataframe tbody tr th {\n",
              "        vertical-align: top;\n",
              "    }\n",
              "\n",
              "    .dataframe thead th {\n",
              "        text-align: right;\n",
              "    }\n",
              "</style>\n",
              "<table border=\"1\" class=\"dataframe\">\n",
              "  <thead>\n",
              "    <tr style=\"text-align: right;\">\n",
              "      <th></th>\n",
              "      <th>x0</th>\n",
              "      <th>x1</th>\n",
              "      <th>x2</th>\n",
              "    </tr>\n",
              "  </thead>\n",
              "  <tbody>\n",
              "    <tr>\n",
              "      <th>0</th>\n",
              "      <td>0.5</td>\n",
              "      <td>a</td>\n",
              "      <td>c</td>\n",
              "    </tr>\n",
              "    <tr>\n",
              "      <th>1</th>\n",
              "      <td>0.3</td>\n",
              "      <td>b</td>\n",
              "      <td>c</td>\n",
              "    </tr>\n",
              "    <tr>\n",
              "      <th>2</th>\n",
              "      <td>0.2</td>\n",
              "      <td>a</td>\n",
              "      <td>d</td>\n",
              "    </tr>\n",
              "  </tbody>\n",
              "</table>\n",
              "</div>"
            ],
            "text/plain": [
              "    x0 x1 x2\n",
              "0  0.5  a  c\n",
              "1  0.3  b  c\n",
              "2  0.2  a  d"
            ]
          },
          "metadata": {
            "tags": []
          },
          "execution_count": 307
        }
      ]
    },
    {
      "cell_type": "markdown",
      "metadata": {
        "id": "3KjZRjV-nA05"
      },
      "source": [
        "Here, we'll make two `OneHotEncoder`s in parallel, working on column sets `[1]` and `[2]`. Each runs and produces the new columns it ought to produce, and these are concatenated together with the `passthrough` columns."
      ]
    },
    {
      "cell_type": "code",
      "metadata": {
        "id": "PpxI5UHfnA06",
        "outputId": "e3b8ee21-0d47-4405-daf1-33f0ddaa22dd"
      },
      "source": [
        "pipe = Pipeline([\n",
        "                 ('encoder', \n",
        "                  ColumnTransformer(transformers=[\n",
        "                      ('encoder 1', OneHotEncoder(), [1]), # [1]: \"a\", \"b\", \"a\"\n",
        "                      ('encoder 2', OneHotEncoder(), [2]) # [2]: \"c\", \"c\", \"d\"\n",
        "                  ],\n",
        "                       remainder='passthrough')\n",
        "                 ),\n",
        "                ])\n",
        "pipe.fit_transform(X) "
      ],
      "execution_count": null,
      "outputs": [
        {
          "output_type": "execute_result",
          "data": {
            "text/plain": [
              "array([[1. , 0. , 1. , 0. , 0.5],\n",
              "       [0. , 1. , 1. , 0. , 0.3],\n",
              "       [1. , 0. , 0. , 1. , 0.2]])"
            ]
          },
          "metadata": {
            "tags": []
          },
          "execution_count": 308
        }
      ]
    },
    {
      "cell_type": "markdown",
      "metadata": {
        "id": "nNNgEaWNnA07"
      },
      "source": [
        "Think of these columns as:\n",
        "\n",
        "`x1==a, x1==b, x2==c, x2==d, x0`"
      ]
    },
    {
      "cell_type": "markdown",
      "metadata": {
        "id": "hqvwC8pAnA08"
      },
      "source": [
        "Interestingly, `ColumnTransformer` can process the same column twice if we want:"
      ]
    },
    {
      "cell_type": "code",
      "metadata": {
        "id": "13FuLZ1fnA08",
        "outputId": "da1da816-789b-4e7b-f094-4a957ade7f12"
      },
      "source": [
        "pipe = Pipeline([\n",
        "                 ('encoder', \n",
        "                  ColumnTransformer(transformers=[\n",
        "                      ('encoder 1', OneHotEncoder(), [1]), # [1]: \"a\", \"b\", \"a\"\n",
        "                      ('encoder 1 again', OneHotEncoder(), [1])  # [1]: \"a\", \"b\", \"a\"\n",
        "                  ],\n",
        "                       remainder='passthrough')\n",
        "                 ),\n",
        "                ])\n",
        "pipe.fit_transform(X) "
      ],
      "execution_count": null,
      "outputs": [
        {
          "output_type": "execute_result",
          "data": {
            "text/plain": [
              "array([[1.0, 0.0, 1.0, 0.0, 0.5, 'c'],\n",
              "       [0.0, 1.0, 0.0, 1.0, 0.3, 'c'],\n",
              "       [1.0, 0.0, 1.0, 0.0, 0.2, 'd']], dtype=object)"
            ]
          },
          "metadata": {
            "tags": []
          },
          "execution_count": 309
        }
      ]
    },
    {
      "cell_type": "markdown",
      "metadata": {
        "id": "vw6nTIrqnA0-"
      },
      "source": [
        "Think of these columns as:\n",
        "\n",
        "`x1==a, x1==b, x2==c, x2==d, x0`"
      ]
    },
    {
      "cell_type": "markdown",
      "metadata": {
        "id": "F4-xSK3WnA0-"
      },
      "source": [
        "A final point -- we could ask the same question about `Pipeline` itself -- if we put multiple `ColumnTransformer`s in a `Pipeline`, these are definitely **in sequence**, not parallel. So how to refer to columns?"
      ]
    },
    {
      "cell_type": "code",
      "metadata": {
        "id": "jW7EeaT1nA0_",
        "outputId": "527e6448-6550-4b54-e63c-6552a3e551bb"
      },
      "source": [
        "pipe = Pipeline([\n",
        "                 ('encoder 0', \n",
        "                  ColumnTransformer(transformers=[\n",
        "                      ('encoder', OneHotEncoder(), [1])], # [1]: \"a\", \"b\", \"a\"\n",
        "                       remainder='passthrough') \n",
        "                 ),\n",
        "                 ('encoder 1', \n",
        "                  ColumnTransformer(transformers=[\n",
        "                      ('encoder', OneHotEncoder(), [2])], # what does [2] mean now??\n",
        "                       remainder='passthrough') \n",
        "                 )\n",
        "                ])\n",
        "pipe.fit_transform(X) "
      ],
      "execution_count": null,
      "outputs": [
        {
          "output_type": "execute_result",
          "data": {
            "text/plain": [
              "array([[0.0, 0.0, 1.0, 1.0, 0.0, 'c'],\n",
              "       [0.0, 1.0, 0.0, 0.0, 1.0, 'c'],\n",
              "       [1.0, 0.0, 0.0, 1.0, 0.0, 'd']], dtype=object)"
            ]
          },
          "metadata": {
            "tags": []
          },
          "execution_count": 312
        }
      ]
    },
    {
      "cell_type": "markdown",
      "metadata": {
        "id": "FwUN04G9nA1B"
      },
      "source": [
        "As we can see, the `[2]` in `encoder 1` now does not refer to the `\"c\", \"c\", \"d\"` column. We now have a mess -- the numerical column has been one-hot encoded, which we didn't want.\n",
        "\n",
        "The solution here is probably to try to do any transformations that require us knowing the column indices all in one go, in a single `ColumnTransformer`, early in the `Pipeline`. In practice this is not going to be a problem."
      ]
    },
    {
      "cell_type": "code",
      "metadata": {
        "id": "VO94PNo0nA1B"
      },
      "source": [
        ""
      ],
      "execution_count": null,
      "outputs": []
    }
  ]
}